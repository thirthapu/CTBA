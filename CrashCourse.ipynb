{
 "cells": [
  {
   "cell_type": "code",
   "execution_count": null,
   "id": "b45a724b",
   "metadata": {},
   "outputs": [
    {
     "name": "stdout",
     "output_type": "stream",
     "text": [
      "7\n",
      "data\n",
      "10\n",
      "15\n"
     ]
    }
   ],
   "source": [
    "x = 7\n",
    "y = \"data\"\n",
    "\n",
    "print(x)\n",
    "print(y)\n",
    "\n",
    "my_variable = 10\n",
    "print(my_variable)\n",
    "\n",
    "my_variable += 5 #adds 5 to the previous value of the variable\n",
    "print(my_variable)"
   ]
  },
  {
   "cell_type": "markdown",
   "id": "deeaf7ea",
   "metadata": {},
   "source": [
    "Working with Strings"
   ]
  },
  {
   "cell_type": "code",
   "execution_count": 12,
   "id": "53eb7db8",
   "metadata": {},
   "outputs": [
    {
     "name": "stdout",
     "output_type": "stream",
     "text": [
      "What are you studying?\n",
      "Analytics\n",
      "What are you studying? Analytics\n",
      "What are you studying? Analytics\n",
      "What are you studying?\n",
      "Analytics\n"
     ]
    },
    {
     "data": {
      "text/plain": [
       "str"
      ]
     },
     "execution_count": 12,
     "metadata": {},
     "output_type": "execute_result"
    }
   ],
   "source": [
    "\"I am a MSBA student.\"\n",
    "\n",
    "question = \"What are you studying?\"\n",
    "answer = \"Analytics\"\n",
    "\n",
    "print(question)\n",
    "print(answer)\n",
    "\n",
    "print(question + \" \" + answer) #concatenation using standard format\n",
    "print(f\"{question} {answer}\") #concatenation using f-string format\n",
    "\n",
    "#adding a line break\n",
    "print(question + \"\\n\" + answer) #adds a break to the line\n",
    "\n",
    "type(answer)"
   ]
  },
  {
   "cell_type": "code",
   "execution_count": 10,
   "id": "03d061f5",
   "metadata": {},
   "outputs": [
    {
     "data": {
      "text/plain": [
       "9"
      ]
     },
     "execution_count": 10,
     "metadata": {},
     "output_type": "execute_result"
    }
   ],
   "source": [
    "len(answer)"
   ]
  },
  {
   "cell_type": "code",
   "execution_count": 16,
   "id": "f23b71ab",
   "metadata": {},
   "outputs": [
    {
     "data": {
      "text/plain": [
       "'s'"
      ]
     },
     "execution_count": 16,
     "metadata": {},
     "output_type": "execute_result"
    }
   ],
   "source": [
    "#Indexing a String\n",
    "answer[0] #first character\n",
    "answer[2] #third character\n",
    "answer[8] #ninth character\n",
    "\n",
    "answer[-1] #last character"
   ]
  },
  {
   "cell_type": "code",
   "execution_count": 20,
   "id": "7424daa2",
   "metadata": {},
   "outputs": [
    {
     "name": "stdout",
     "output_type": "stream",
     "text": [
      "CT\n"
     ]
    }
   ],
   "source": [
    "course = \"CTBA\"\n",
    "len(course)\n",
    "\n",
    "print(course[0:2]) #first two characters"
   ]
  },
  {
   "cell_type": "code",
   "execution_count": 23,
   "id": "1c1e8045",
   "metadata": {},
   "outputs": [
    {
     "name": "stdout",
     "output_type": "stream",
     "text": [
      "ANALYTICS\n",
      "analytics\n"
     ]
    },
    {
     "data": {
      "text/plain": [
       "5"
      ]
     },
     "execution_count": 23,
     "metadata": {},
     "output_type": "execute_result"
    }
   ],
   "source": [
    "#Functions and Methods\n",
    "answer.upper() #this converts a variable to uppercase\n",
    "print(answer.upper())\n",
    "\n",
    "answer.lower() #this converts a variable to lowercase\n",
    "print(answer.lower())\n",
    "\n",
    "answer.find(\"t\") #find the index of the first occurrence of \"t\""
   ]
  },
  {
   "cell_type": "code",
   "execution_count": null,
   "id": "dc1c83d0",
   "metadata": {},
   "outputs": [
    {
     "name": "stdout",
     "output_type": "stream",
     "text": [
      "Hello, my name is Thirtha Poruthikode Unnivelan. I am studying Business Analytics.\n",
      "Hello, my name is Thirtha Poruthikode Unnivelan. I am studying Business Analytics.\n"
     ]
    }
   ],
   "source": [
    "#Using the f function for strings\n",
    "name = \"Thirtha Poruthikode Unnivelan\"\n",
    "print(\"Hello, my name is\" + \" \" + name + \". I am studying Business Analytics.\")\n",
    "print(f\"Hello, my name is {name}. I am studying Business Analytics.\")"
   ]
  },
  {
   "cell_type": "code",
   "execution_count": null,
   "id": "073250af",
   "metadata": {},
   "outputs": [
    {
     "name": "stdout",
     "output_type": "stream",
     "text": [
      "(1, 2, 3, 4, 5)\n"
     ]
    }
   ],
   "source": [
    "#Tuples\n",
    "t1 = (1,2,3,4,5) #tuples are created using parenthesis\n",
    "print(t1)\n",
    "\n",
    "#t1[0] = 11 #tuples are immutable, so this will give an error"
   ]
  },
  {
   "cell_type": "code",
   "execution_count": 33,
   "id": "269af3df",
   "metadata": {},
   "outputs": [
    {
     "name": "stdout",
     "output_type": "stream",
     "text": [
      "{'name': 'Thirtha Poruthikode Unnivelan', 'age': '22', 'city': 'Williamsburg'}\n",
      "Thirtha Poruthikode Unnivelan\n",
      "{'name': 'Thirtha Poruthikode Unnivelan', 'age': '22', 'city': 'Williamsburg', 'email': 'tporuthikodeun@wm.edu'}\n"
     ]
    }
   ],
   "source": [
    "#Dictionaries\n",
    "d1 = {\"name\": \"Thirtha Poruthikode Unnivelan\", \"age\": \"22\", \"city\": \"Williamsburg\"}\n",
    "print(d1)\n",
    "print(d1[\"name\"])\n",
    "\n",
    "d1[\"email\"] = \"tporuthikodeun@wm.edu\"\n",
    "print(d1)"
   ]
  },
  {
   "cell_type": "code",
   "execution_count": 34,
   "id": "46ea8d5d",
   "metadata": {},
   "outputs": [
    {
     "name": "stdout",
     "output_type": "stream",
     "text": [
      "name : Thirtha Poruthikode Unnivelan\n",
      "age : 22\n",
      "city : Williamsburg\n",
      "email : tporuthikodeun@wm.edu\n"
     ]
    }
   ],
   "source": [
    "#Formatting the dictionary output with a for loop\n",
    "for key, value in d1.items():\n",
    "    print(key, \":\", value)"
   ]
  },
  {
   "cell_type": "markdown",
   "id": "fccbae87",
   "metadata": {},
   "source": [
    "Dictionary of Dictionaries"
   ]
  },
  {
   "cell_type": "code",
   "execution_count": 37,
   "id": "53481ba5",
   "metadata": {},
   "outputs": [],
   "source": [
    "people = {\n",
    "    \"person1\" : {\"name\": \"Thirtha Poruthikode Unnivelan\", \"age\": 22, \"city\": \"Williamsburg\"},\n",
    "    \"person2\" : {\"name\": \"John Doe\", \"age\": 30, \"city\": \"Newport News\"},\n",
    "}"
   ]
  },
  {
   "cell_type": "code",
   "execution_count": 36,
   "id": "e64ea06b",
   "metadata": {},
   "outputs": [],
   "source": [
    "distances = {\n",
    "    \"A\": {\"B\": 10, \"C\": 15},\n",
    "    \"B\": {\"A\": 10, \"C\": 20},\n",
    "    \"C\": {\"A\": 15, \"B\": 20},\n",
    "}"
   ]
  },
  {
   "cell_type": "code",
   "execution_count": 41,
   "id": "d5ac36ac",
   "metadata": {},
   "outputs": [
    {
     "name": "stdout",
     "output_type": "stream",
     "text": [
      "{'Bryce': {'GPA': 3.8, 'major': 'MSBA', 'courses': 1}, 'Mann': {'GPA': 3.8, 'major': 'MSBA', 'courses': 2}, 'Tai': {'GPA': 3.8, 'major': 'MSBA', 'courses': 1}}\n"
     ]
    }
   ],
   "source": [
    "gpa = {\n",
    "    \"Bryce\": {\"GPA\": 3.8, \"major\": \"MSBA\", \"courses\": 1},\n",
    "    \"Mann\": {\"GPA\": 3.8, \"major\": \"MSBA\", \"courses\": 2},\n",
    "    \"Tai\": {\"GPA\": 3.8, \"major\": \"MSBA\", \"courses\": 1}\n",
    "}\n",
    "print(gpa)"
   ]
  },
  {
   "cell_type": "code",
   "execution_count": 44,
   "id": "1326ead5",
   "metadata": {},
   "outputs": [
    {
     "name": "stdout",
     "output_type": "stream",
     "text": [
      "x is greater than 5\n",
      "x is even\n",
      "zero\n"
     ]
    }
   ],
   "source": [
    "#If statements\n",
    "x = 10\n",
    "if x > 5:\n",
    "    print(\"x is greater than 5\")\n",
    "\n",
    "#If else\n",
    "x = 4\n",
    "if x % 2 == 0:\n",
    "    print(\"x is even\")\n",
    "else:\n",
    "    print(\"x is odd\")\n",
    "\n",
    "#If elif else - use to check multiple conditions\n",
    "x = 0\n",
    "if x > 0:\n",
    "    print(\"x is positive\")\n",
    "elif x == 0:\n",
    "    print(\"zero\")\n",
    "else:\n",
    "    print(\"x is negative\")"
   ]
  },
  {
   "cell_type": "code",
   "execution_count": 46,
   "id": "2650ef24",
   "metadata": {},
   "outputs": [
    {
     "name": "stdout",
     "output_type": "stream",
     "text": [
      "i is  0\n",
      "i is  1\n",
      "i is  2\n",
      "i is  3\n",
      "i is  4\n"
     ]
    }
   ],
   "source": [
    "#for loop with an i and a range function\n",
    "for i in range(5):\n",
    "    print(\"i is \", i)"
   ]
  },
  {
   "cell_type": "code",
   "execution_count": null,
   "id": "4d28b739",
   "metadata": {},
   "outputs": [
    {
     "name": "stdout",
     "output_type": "stream",
     "text": [
      "0 is even\n",
      "1 is odd\n",
      "2 is even\n",
      "3 is odd\n",
      "4 is even\n"
     ]
    }
   ],
   "source": [
    "#while statements\n",
    "x = 0\n",
    "while x < 5:\n",
    "    if x % 2 == 0:\n",
    "        print(x, \"is even\")\n",
    "    else:\n",
    "        print(x, \"is odd\")\n",
    "    x += 1\n",
    "#while statements are different from for loops because you have manually do the increments in while statements, while for loops automatically do them"
   ]
  },
  {
   "cell_type": "code",
   "execution_count": 50,
   "id": "00559027",
   "metadata": {},
   "outputs": [
    {
     "name": "stdout",
     "output_type": "stream",
     "text": [
      "[1 2 3 4 5]\n"
     ]
    }
   ],
   "source": [
    "import numpy as np\n",
    "\n",
    "arr1 = np.array([1,2,3,4,5])\n",
    "print(arr1)"
   ]
  }
 ],
 "metadata": {
  "kernelspec": {
   "display_name": "CTBA",
   "language": "python",
   "name": "python3"
  },
  "language_info": {
   "codemirror_mode": {
    "name": "ipython",
    "version": 3
   },
   "file_extension": ".py",
   "mimetype": "text/x-python",
   "name": "python",
   "nbconvert_exporter": "python",
   "pygments_lexer": "ipython3",
   "version": "3.13.5"
  }
 },
 "nbformat": 4,
 "nbformat_minor": 5
}
